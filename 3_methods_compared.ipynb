{
 "cells": [
  {
   "cell_type": "code",
   "execution_count": 1,
   "id": "1a8acbab-b908-44db-b516-42761765c2ce",
   "metadata": {},
   "outputs": [
    {
     "data": {
      "text/plain": [
       "<torch._C.Generator at 0x23572a2f5d0>"
      ]
     },
     "execution_count": 1,
     "metadata": {},
     "output_type": "execute_result"
    }
   ],
   "source": [
    "import numpy as np\n",
    "import pandas as pd\n",
    "import matplotlib.pyplot as plt\n",
    "from sklearn.decomposition import PCA\n",
    "\n",
    "import torch\n",
    "from torch import nn\n",
    "from torch.utils.data import DataLoader, Dataset\n",
    "import torch.nn.functional as F\n",
    "\n",
    "import tqdm as notebook_tqdm\n",
    "\n",
    "torch.manual_seed(1)"
   ]
  },
  {
   "cell_type": "markdown",
   "id": "ae5a7da6-ff26-48cc-a3e5-3b239ac55708",
   "metadata": {},
   "source": [
    "We try to predict the quality of red wine, given 11 features.  \n",
    "To do so, we contrast 3 different ML pipelines.\n",
    "- Fitting a NN on the original features of the data.\n",
    "- Using PCA to reduce the dimensionality of the feature space, then fitting a model on the principle components.\n",
    "- First training an AE, then fit a model using on the latent space of the AE.\n",
    "\n",
    "Before we do so, we first create a training, validation and test set and dataloader."
   ]
  },
  {
   "cell_type": "code",
   "execution_count": 2,
   "id": "96d63793-9b27-4b8a-af94-95a25d97dbb2",
   "metadata": {},
   "outputs": [
    {
     "data": {
      "text/html": [
       "<div>\n",
       "<style scoped>\n",
       "    .dataframe tbody tr th:only-of-type {\n",
       "        vertical-align: middle;\n",
       "    }\n",
       "\n",
       "    .dataframe tbody tr th {\n",
       "        vertical-align: top;\n",
       "    }\n",
       "\n",
       "    .dataframe thead th {\n",
       "        text-align: right;\n",
       "    }\n",
       "</style>\n",
       "<table border=\"1\" class=\"dataframe\">\n",
       "  <thead>\n",
       "    <tr style=\"text-align: right;\">\n",
       "      <th></th>\n",
       "      <th>fixed acidity</th>\n",
       "      <th>volatile acidity</th>\n",
       "      <th>citric acid</th>\n",
       "      <th>residual sugar</th>\n",
       "      <th>chlorides</th>\n",
       "      <th>free sulfur dioxide</th>\n",
       "      <th>total sulfur dioxide</th>\n",
       "      <th>density</th>\n",
       "      <th>pH</th>\n",
       "      <th>sulphates</th>\n",
       "      <th>alcohol</th>\n",
       "      <th>quality</th>\n",
       "    </tr>\n",
       "  </thead>\n",
       "  <tbody>\n",
       "    <tr>\n",
       "      <th>0</th>\n",
       "      <td>7.4</td>\n",
       "      <td>0.70</td>\n",
       "      <td>0.00</td>\n",
       "      <td>1.9</td>\n",
       "      <td>0.076</td>\n",
       "      <td>11.0</td>\n",
       "      <td>34.0</td>\n",
       "      <td>0.9978</td>\n",
       "      <td>3.51</td>\n",
       "      <td>0.56</td>\n",
       "      <td>9.4</td>\n",
       "      <td>5.0</td>\n",
       "    </tr>\n",
       "    <tr>\n",
       "      <th>1</th>\n",
       "      <td>7.8</td>\n",
       "      <td>0.88</td>\n",
       "      <td>0.00</td>\n",
       "      <td>2.6</td>\n",
       "      <td>0.098</td>\n",
       "      <td>25.0</td>\n",
       "      <td>67.0</td>\n",
       "      <td>0.9968</td>\n",
       "      <td>3.20</td>\n",
       "      <td>0.68</td>\n",
       "      <td>9.8</td>\n",
       "      <td>5.0</td>\n",
       "    </tr>\n",
       "    <tr>\n",
       "      <th>2</th>\n",
       "      <td>7.8</td>\n",
       "      <td>0.76</td>\n",
       "      <td>0.04</td>\n",
       "      <td>2.3</td>\n",
       "      <td>0.092</td>\n",
       "      <td>15.0</td>\n",
       "      <td>54.0</td>\n",
       "      <td>0.9970</td>\n",
       "      <td>3.26</td>\n",
       "      <td>0.65</td>\n",
       "      <td>9.8</td>\n",
       "      <td>5.0</td>\n",
       "    </tr>\n",
       "    <tr>\n",
       "      <th>3</th>\n",
       "      <td>11.2</td>\n",
       "      <td>0.28</td>\n",
       "      <td>0.56</td>\n",
       "      <td>1.9</td>\n",
       "      <td>0.075</td>\n",
       "      <td>17.0</td>\n",
       "      <td>60.0</td>\n",
       "      <td>0.9980</td>\n",
       "      <td>3.16</td>\n",
       "      <td>0.58</td>\n",
       "      <td>9.8</td>\n",
       "      <td>6.0</td>\n",
       "    </tr>\n",
       "    <tr>\n",
       "      <th>4</th>\n",
       "      <td>7.4</td>\n",
       "      <td>0.70</td>\n",
       "      <td>0.00</td>\n",
       "      <td>1.9</td>\n",
       "      <td>0.076</td>\n",
       "      <td>11.0</td>\n",
       "      <td>34.0</td>\n",
       "      <td>0.9978</td>\n",
       "      <td>3.51</td>\n",
       "      <td>0.56</td>\n",
       "      <td>9.4</td>\n",
       "      <td>5.0</td>\n",
       "    </tr>\n",
       "  </tbody>\n",
       "</table>\n",
       "</div>"
      ],
      "text/plain": [
       "   fixed acidity  volatile acidity  citric acid  residual sugar  chlorides  \\\n",
       "0            7.4              0.70         0.00             1.9      0.076   \n",
       "1            7.8              0.88         0.00             2.6      0.098   \n",
       "2            7.8              0.76         0.04             2.3      0.092   \n",
       "3           11.2              0.28         0.56             1.9      0.075   \n",
       "4            7.4              0.70         0.00             1.9      0.076   \n",
       "\n",
       "   free sulfur dioxide  total sulfur dioxide  density    pH  sulphates  \\\n",
       "0                 11.0                  34.0   0.9978  3.51       0.56   \n",
       "1                 25.0                  67.0   0.9968  3.20       0.68   \n",
       "2                 15.0                  54.0   0.9970  3.26       0.65   \n",
       "3                 17.0                  60.0   0.9980  3.16       0.58   \n",
       "4                 11.0                  34.0   0.9978  3.51       0.56   \n",
       "\n",
       "   alcohol  quality  \n",
       "0      9.4      5.0  \n",
       "1      9.8      5.0  \n",
       "2      9.8      5.0  \n",
       "3      9.8      6.0  \n",
       "4      9.4      5.0  "
      ]
     },
     "execution_count": 2,
     "metadata": {},
     "output_type": "execute_result"
    }
   ],
   "source": [
    "data = pd.read_csv(\"winequality-red.csv\")\n",
    "data = data.astype('float32')\n",
    "data.head()"
   ]
  },
  {
   "cell_type": "code",
   "execution_count": 3,
   "id": "0ee5119d-4fa3-4e4e-87dc-dfdda056cef6",
   "metadata": {},
   "outputs": [],
   "source": [
    "n = len(data)\n",
    "train = int(n * 0.8)\n",
    "val = int(n * 0.1)\n",
    "\n",
    "#normalize, using only the stats of the training set, to avoid information about the \n",
    "#val and test sets to leak.\n",
    "train_set = data[:train]\n",
    "data = (data-train_set.mean())/train_set.std()\n",
    "\n",
    "train_set = data[:train]\n",
    "val_set = data[train + 1 : train + val]\n",
    "test_set = data[train + val:]"
   ]
  },
  {
   "cell_type": "code",
   "execution_count": 4,
   "id": "08e1d89f-e0a9-4ea7-8081-e49ffca1a5b5",
   "metadata": {},
   "outputs": [],
   "source": [
    "class CustomDataset(Dataset):\n",
    "    def __init__(self, dataframe):\n",
    "        self.dataframe = dataframe\n",
    "\n",
    "    def __getitem__(self, index):\n",
    "        row = self.dataframe.iloc[index].to_numpy()\n",
    "        features = row[:-1]\n",
    "        label = row[-1]\n",
    "        return features, label\n",
    "\n",
    "    def __len__(self):\n",
    "        return len(self.dataframe)\n",
    "\n",
    "#instantiate dataloaders\n",
    "train_data = CustomDataset(dataframe = train_set)\n",
    "train_loader = DataLoader(train_data, batch_size = 32)\n",
    "\n",
    "val_data = CustomDataset(dataframe = val_set)\n",
    "val_loader = DataLoader(val_data, batch_size = 32)\n",
    "\n",
    "test_data = CustomDataset(dataframe = test_set)\n",
    "test_loader = DataLoader(test_data, batch_size = 32)\n",
    "\n",
    "#loss\n",
    "loss_fn = nn.L1Loss(reduction = 'mean')"
   ]
  },
  {
   "cell_type": "code",
   "execution_count": 5,
   "id": "6f3dcc2f-b8b8-4820-9d51-2f636183de2b",
   "metadata": {},
   "outputs": [],
   "source": [
    "def train_step(model, optimizer, dataloader, loss_fn):\n",
    "    model.train()\n",
    "    losses = []\n",
    "    for x,y in dataloader:\n",
    "        optimizer.zero_grad()\n",
    "        y_pred = model(x)\n",
    "        loss = loss_fn(y_pred.squeeze(), y)\n",
    "        loss.backward()\n",
    "        optimizer.step()\n",
    "        losses.append(loss.detach())\n",
    "        \n",
    "    return sum(losses)/len(losses)\n",
    "\n",
    "def evaluate(model, dataloader, loss_fn):\n",
    "    with torch.no_grad():\n",
    "        model.eval()\n",
    "        losses = []\n",
    "        for x,y in dataloader:\n",
    "            y_pred = model(x)\n",
    "            loss = loss_fn(y_pred.squeeze(), y)\n",
    "            losses.append(loss.detach())\n",
    "            \n",
    "    return sum(losses)/len(losses)\n",
    "\n",
    "def train(model, optimizer, epochs, train_dataloader, val_dataloader, loss_fn):\n",
    "    train_loss, val_loss = [], []\n",
    "    for i in range(epochs):\n",
    "        #training\n",
    "        new_loss = train_step(model, optimizer, train_dataloader, loss_fn)\n",
    "        train_loss.append(new_loss)\n",
    "        #evaluating\n",
    "        new_loss = evaluate(model, val_dataloader, loss_fn)\n",
    "        val_loss.append(new_loss)\n",
    "        \n",
    "    return train_loss, val_loss\n",
    "    "
   ]
  },
  {
   "cell_type": "markdown",
   "id": "76daccf8-7ce3-434c-96d4-4a1dcfebd25a",
   "metadata": {},
   "source": [
    "We start by creating the first model"
   ]
  },
  {
   "cell_type": "code",
   "execution_count": 6,
   "id": "50039897-8c1e-426d-83b3-ec664c63f282",
   "metadata": {},
   "outputs": [
    {
     "name": "stderr",
     "output_type": "stream",
     "text": [
      "c:\\Users\\1888r\\anaconda3\\Lib\\site-packages\\tqdm\\auto.py:21: TqdmWarning: IProgress not found. Please update jupyter and ipywidgets. See https://ipywidgets.readthedocs.io/en/stable/user_install.html\n",
      "  from .autonotebook import tqdm as notebook_tqdm\n"
     ]
    }
   ],
   "source": [
    "class first_model(nn.Module):\n",
    "    def __init__(self):\n",
    "        super().__init__()\n",
    "        self.ff1 = nn.Linear(11, 30)\n",
    "        self.ff2 = nn.Linear(30, 25)\n",
    "        self.ff3 = nn.Linear(25, 12)\n",
    "        self.ff4 = nn.Linear(12,1)\n",
    "\n",
    "    def forward(self, x):\n",
    "        x = F.relu(self.ff1(x))\n",
    "        x = F.relu(self.ff2(x))\n",
    "        x = F.relu(self.ff3(x))\n",
    "        x = F.tanh(self.ff4(x))\n",
    "        return x\n",
    "\n",
    "model = first_model()\n",
    "optimizer = torch.optim.Adam(model.parameters(), lr = 1e-4)"
   ]
  },
  {
   "cell_type": "markdown",
   "id": "c8e3a9d8",
   "metadata": {},
   "source": [
    "Here we can see overfitting starting to happen, as the training loss continues to decrease, while the validation loss increases.  \n",
    "We stop the model after 400 epochs to avoid overfitting."
   ]
  },
  {
   "cell_type": "code",
   "execution_count": 7,
   "id": "97b47de4-635f-4dc9-beb8-d4686d5d15cb",
   "metadata": {},
   "outputs": [
    {
     "data": {
      "image/png": "[encoded data removed]",
      "text/plain": [
       "<Figure size 640x480 with 1 Axes>"
      ]
     },
     "metadata": {},
     "output_type": "display_data"
    }
   ],
   "source": [
    "model = first_model()\n",
    "optimizer = torch.optim.Adam(model.parameters(), lr = 1e-4)\n",
    "\n",
    "m1_train, m1_val = train(model, optimizer, 400, train_loader, val_loader, loss_fn)\n",
    "\n",
    "plt.plot(range(400), m1_train, 'blue' , label = 'train')\n",
    "plt.plot(range(400), m1_val, 'red' , label = 'valid')\n",
    "plt.legend();"
   ]
  },
  {
   "cell_type": "markdown",
   "id": "3b25ed9d-5269-492a-95a4-69e90add84e4",
   "metadata": {},
   "source": [
    "Second approach  \n",
    "We fit a PCA to the training set and use it to transform the features."
   ]
  },
  {
   "cell_type": "code",
   "execution_count": 8,
   "id": "30d5fdc1-df62-4ac9-bc40-0c411b584a55",
   "metadata": {},
   "outputs": [],
   "source": [
    "#first we separate the features from the target.\n",
    "train_feat = train_set.iloc[:, :-1].to_numpy()\n",
    "val_feat = val_set.iloc[:, :-1].to_numpy()\n",
    "test_feat = test_set.iloc[:, :-1].to_numpy()"
   ]
  },
  {
   "cell_type": "code",
   "execution_count": 9,
   "id": "fc4515a4-cbc0-49f4-83df-a362f69f8abd",
   "metadata": {},
   "outputs": [],
   "source": [
    "#fit PCA to the training data\n",
    "pca = PCA(n_components = 7)\n",
    "pca.fit(train_feat)\n",
    "\n",
    "#Concatenate the transformed features with the target labels.\n",
    "#the label dataframe is transformed to numpy array, then back to dataframe, so the indices are reset.\n",
    "train_pca_df = pd.concat([pd.DataFrame(pca.transform(train_feat)), train_set.iloc[:, -1]], axis = 1)\n",
    "val_pca_df = pd.concat([pd.DataFrame(pca.transform(val_feat)), pd.DataFrame(val_set.iloc[:, -1].to_numpy())], axis = 1)\n",
    "test_pca_df = pd.concat([pd.DataFrame(pca.transform(test_feat)), pd.DataFrame(test_set.iloc[:, -1].to_numpy())], axis = 1)"
   ]
  },
  {
   "cell_type": "code",
   "execution_count": 10,
   "id": "1c61a050-4393-4a8d-b502-867187fccdc7",
   "metadata": {},
   "outputs": [],
   "source": [
    "train_pca = CustomDataset(dataframe = train_pca_df)\n",
    "train_loader_pca = DataLoader(train_pca, batch_size = 32)\n",
    "\n",
    "val_pca = CustomDataset(dataframe = val_pca_df)\n",
    "val_loader_pca = DataLoader(val_pca, batch_size = 32)\n",
    "\n",
    "test_pca = CustomDataset(dataframe = test_pca_df)\n",
    "test_loader_pca = DataLoader(test_pca, batch_size = 32)"
   ]
  },
  {
   "cell_type": "markdown",
   "id": "4a8f3f37-1c67-4164-ba96-eb518b7d28cc",
   "metadata": {},
   "source": [
    "Now we are ready to create a model, similar to the one used in the first example"
   ]
  },
  {
   "cell_type": "code",
   "execution_count": 11,
   "id": "cc6aea4b-578c-45ef-b42e-ab8d44c11e5f",
   "metadata": {},
   "outputs": [],
   "source": [
    "class pca_model(nn.Module):\n",
    "    def __init__(self):\n",
    "        super().__init__()\n",
    "        self.ff1 = nn.Linear(7, 30)\n",
    "        self.ff2 = nn.Linear(30, 25)\n",
    "        self.ff3 = nn.Linear(25, 12)\n",
    "        self.ff4 = nn.Linear(12,1)\n",
    "\n",
    "    def forward(self, x):\n",
    "        x = F.relu(self.ff1(x))\n",
    "        x = F.relu(self.ff2(x))\n",
    "        x = F.relu(self.ff3(x))\n",
    "        x = F.tanh(self.ff4(x))\n",
    "        return x\n",
    "\n",
    "model_pca = pca_model()"
   ]
  },
  {
   "cell_type": "code",
   "execution_count": 12,
   "id": "2adf6361-cc9f-486f-bd0f-648340b5cf96",
   "metadata": {},
   "outputs": [
    {
     "data": {
      "image/png": "[encoded data removed]",
      "text/plain": [
       "<Figure size 640x480 with 1 Axes>"
      ]
     },
     "metadata": {},
     "output_type": "display_data"
    }
   ],
   "source": [
    "optimizer = torch.optim.Adam(model_pca.parameters(), lr = 1e-4)\n",
    "m2_train, m2_val = train(model_pca, optimizer, 400, train_loader_pca, val_loader_pca, loss_fn)\n",
    "\n",
    "plt.plot(range(400), m2_train, 'blue' , label = 'train')\n",
    "plt.plot(range(400), m2_val, 'red' , label = 'valid')\n",
    "plt.legend();"
   ]
  },
  {
   "cell_type": "markdown",
   "id": "d9bb780d-b516-4e17-87be-f46116e8338c",
   "metadata": {},
   "source": [
    "# Third approach: AE model"
   ]
  },
  {
   "cell_type": "code",
   "execution_count": 13,
   "id": "de73a075-8e93-44e5-a8f8-f39cfd22303e",
   "metadata": {},
   "outputs": [],
   "source": [
    "class AE(nn.Module):\n",
    "    def __init__(self):\n",
    "        super().__init__()\n",
    "        self.encode = nn.Sequential(nn.Linear(11, 15),\n",
    "                                     nn.ReLU(),\n",
    "                                     nn.Linear(15, 10),\n",
    "                                     nn.ReLU(),\n",
    "                                     nn.Linear(10, 7),\n",
    "                                     nn.ReLU()\n",
    "                                    )\n",
    "        self.decode = nn.Sequential(nn.Linear(7, 10),\n",
    "                                     nn.ReLU(),\n",
    "                                     nn.Linear(10, 15),\n",
    "                                     nn.ReLU(),\n",
    "                                     nn.Linear(15, 11),\n",
    "                                     nn.Tanh()\n",
    "                                    )\n",
    "        \n",
    "    def forward(self, x):\n",
    "        x = self.encode(x)\n",
    "        return self.decode(x)\n"
   ]
  },
  {
   "cell_type": "code",
   "execution_count": 14,
   "id": "39f0ff21-8a40-47c3-a0df-fa9e06c81f55",
   "metadata": {},
   "outputs": [],
   "source": [
    "def train_step_ae(model, optimizer, dataloader, loss_fn):\n",
    "    model.train()\n",
    "    losses = []\n",
    "    for x,y in train_loader:\n",
    "        optimizer.zero_grad()\n",
    "        x_pred = model(x)\n",
    "        loss = loss_fn(x_pred, x)\n",
    "        loss.backward()\n",
    "        optimizer.step()\n",
    "        losses.append(loss.detach())\n",
    "        \n",
    "    return sum(losses)/len(losses)\n",
    "\n",
    "def evaluate_ae(model, dataloader, loss_fn):\n",
    "    with torch.no_grad():\n",
    "        model.eval()\n",
    "        losses = []\n",
    "        for x,y in dataloader:\n",
    "            x_pred = model(x)\n",
    "            loss = loss_fn(x_pred, x)\n",
    "            losses.append(loss.detach())\n",
    "            \n",
    "    return sum(losses)/len(losses)\n",
    "\n",
    "def train_ae(model, optimizer, epochs, train_loader, val_loader, loss_fn):\n",
    "    train_loss, val_loss = [], []\n",
    "    for i in range(epochs):\n",
    "        #training\n",
    "        new_loss = train_step_ae(model, optimizer, train_loader, loss_fn)\n",
    "        train_loss.append(new_loss)\n",
    "        #evaluating\n",
    "        new_loss = evaluate_ae(model, val_loader, loss_fn)\n",
    "        val_loss.append(new_loss)\n",
    "        \n",
    "    return train_loss, val_loss"
   ]
  },
  {
   "cell_type": "code",
   "execution_count": 15,
   "id": "17ed1f7d-9ae8-4091-bff9-8ac1a1ec900d",
   "metadata": {},
   "outputs": [
    {
     "data": {
      "image/png": "[encoded data removed]",
      "text/plain": [
       "<Figure size 640x480 with 1 Axes>"
      ]
     },
     "metadata": {},
     "output_type": "display_data"
    }
   ],
   "source": [
    "ae = AE()\n",
    "loss_fn_ae = nn.MSELoss()\n",
    "\n",
    "optimizer_ae = torch.optim.Adam(ae.parameters(), lr = 1e-4)\n",
    "ae_train, ae_val = train_ae(ae, optimizer_ae, 400, train_loader, val_loader, loss_fn_ae)\n",
    "#learning rate decay\n",
    "optimizer_ae = torch.optim.Adam(ae.parameters(), lr = 1e-5)\n",
    "ae_train2, ae_val2 = train_ae(ae, optimizer_ae, 300, train_loader, val_loader, loss_fn_ae)\n",
    "\n",
    "plt.plot(range(700), ae_train + ae_train2, 'blue' , label = 'train')\n",
    "plt.plot(range(700), ae_val + ae_val2, 'red' , label = 'valid')\n",
    "plt.legend();"
   ]
  },
  {
   "cell_type": "code",
   "execution_count": 16,
   "id": "b546143b-761f-47e2-8204-cf6d293df2e6",
   "metadata": {},
   "outputs": [],
   "source": [
    "class Model_AE(nn.Module):\n",
    "    def __init__(self):\n",
    "        super().__init__()\n",
    "        self.ae = ae.encode\n",
    "        self.ff1 = nn.Linear(7, 30)\n",
    "        self.ff2 = nn.Linear(30, 25)\n",
    "        self.ff3 = nn.Linear(25, 12)\n",
    "        self.ff4 = nn.Linear(12,1)\n",
    "\n",
    "    def forward(self, x):\n",
    "        x = self.ae(x)\n",
    "        x = F.relu(self.ff1(x))\n",
    "        x = F.relu(self.ff2(x))\n",
    "        x = F.relu(self.ff3(x))\n",
    "        x = F.tanh(self.ff4(x))\n",
    "        return x"
   ]
  },
  {
   "cell_type": "markdown",
   "id": "90cc0ed2",
   "metadata": {},
   "source": [
    "First we allow the model to retrain the parameters in the encoding network."
   ]
  },
  {
   "cell_type": "code",
   "execution_count": 18,
   "id": "e6c19952-ece0-43c8-ac86-f7f644a9bd8b",
   "metadata": {},
   "outputs": [
    {
     "ename": "ValueError",
     "evalue": "x and y must have same first dimension, but have shapes (300,) and (400,)",
     "output_type": "error",
     "traceback": [
      "\u001b[1;31m---------------------------------------------------------------------------\u001b[0m",
      "\u001b[1;31mValueError\u001b[0m                                Traceback (most recent call last)",
      "Cell \u001b[1;32mIn[18], line 10\u001b[0m\n\u001b[0;32m      7\u001b[0m optimizer \u001b[38;5;241m=\u001b[39m torch\u001b[38;5;241m.\u001b[39moptim\u001b[38;5;241m.\u001b[39mAdam(model_ae\u001b[38;5;241m.\u001b[39mparameters(), lr \u001b[38;5;241m=\u001b[39m \u001b[38;5;241m1e-5\u001b[39m)\n\u001b[0;32m      8\u001b[0m m3_train2, m3_val2 \u001b[38;5;241m=\u001b[39m train(model_ae, optimizer, \u001b[38;5;241m200\u001b[39m, train_loader, val_loader, loss_fn)\n\u001b[1;32m---> 10\u001b[0m plt\u001b[38;5;241m.\u001b[39mplot(\u001b[38;5;28mrange\u001b[39m(\u001b[38;5;241m300\u001b[39m), m3_train \u001b[38;5;241m+\u001b[39m m3_train2, \u001b[38;5;124m'\u001b[39m\u001b[38;5;124mblue\u001b[39m\u001b[38;5;124m'\u001b[39m , label \u001b[38;5;241m=\u001b[39m \u001b[38;5;124m'\u001b[39m\u001b[38;5;124mtrain\u001b[39m\u001b[38;5;124m'\u001b[39m)\n\u001b[0;32m     11\u001b[0m plt\u001b[38;5;241m.\u001b[39mplot(\u001b[38;5;28mrange\u001b[39m(\u001b[38;5;241m300\u001b[39m), m3_val \u001b[38;5;241m+\u001b[39m m3_val2, \u001b[38;5;124m'\u001b[39m\u001b[38;5;124mred\u001b[39m\u001b[38;5;124m'\u001b[39m , label \u001b[38;5;241m=\u001b[39m \u001b[38;5;124m'\u001b[39m\u001b[38;5;124mvalid\u001b[39m\u001b[38;5;124m'\u001b[39m)\n\u001b[0;32m     12\u001b[0m plt\u001b[38;5;241m.\u001b[39mlegend()\n",
      "File \u001b[1;32mc:\\Users\\1888r\\anaconda3\\Lib\\site-packages\\matplotlib\\pyplot.py:2812\u001b[0m, in \u001b[0;36mplot\u001b[1;34m(scalex, scaley, data, *args, **kwargs)\u001b[0m\n\u001b[0;32m   2810\u001b[0m \u001b[38;5;129m@_copy_docstring_and_deprecators\u001b[39m(Axes\u001b[38;5;241m.\u001b[39mplot)\n\u001b[0;32m   2811\u001b[0m \u001b[38;5;28;01mdef\u001b[39;00m \u001b[38;5;21mplot\u001b[39m(\u001b[38;5;241m*\u001b[39margs, scalex\u001b[38;5;241m=\u001b[39m\u001b[38;5;28;01mTrue\u001b[39;00m, scaley\u001b[38;5;241m=\u001b[39m\u001b[38;5;28;01mTrue\u001b[39;00m, data\u001b[38;5;241m=\u001b[39m\u001b[38;5;28;01mNone\u001b[39;00m, \u001b[38;5;241m*\u001b[39m\u001b[38;5;241m*\u001b[39mkwargs):\n\u001b[1;32m-> 2812\u001b[0m     \u001b[38;5;28;01mreturn\u001b[39;00m gca()\u001b[38;5;241m.\u001b[39mplot(\n\u001b[0;32m   2813\u001b[0m         \u001b[38;5;241m*\u001b[39margs, scalex\u001b[38;5;241m=\u001b[39mscalex, scaley\u001b[38;5;241m=\u001b[39mscaley,\n\u001b[0;32m   2814\u001b[0m         \u001b[38;5;241m*\u001b[39m\u001b[38;5;241m*\u001b[39m({\u001b[38;5;124m\"\u001b[39m\u001b[38;5;124mdata\u001b[39m\u001b[38;5;124m\"\u001b[39m: data} \u001b[38;5;28;01mif\u001b[39;00m data \u001b[38;5;129;01mis\u001b[39;00m \u001b[38;5;129;01mnot\u001b[39;00m \u001b[38;5;28;01mNone\u001b[39;00m \u001b[38;5;28;01melse\u001b[39;00m {}), \u001b[38;5;241m*\u001b[39m\u001b[38;5;241m*\u001b[39mkwargs)\n",
      "File \u001b[1;32mc:\\Users\\1888r\\anaconda3\\Lib\\site-packages\\matplotlib\\axes\\_axes.py:1688\u001b[0m, in \u001b[0;36mAxes.plot\u001b[1;34m(self, scalex, scaley, data, *args, **kwargs)\u001b[0m\n\u001b[0;32m   1445\u001b[0m \u001b[38;5;250m\u001b[39m\u001b[38;5;124;03m\"\"\"\u001b[39;00m\n\u001b[0;32m   1446\u001b[0m \u001b[38;5;124;03mPlot y versus x as lines and/or markers.\u001b[39;00m\n\u001b[0;32m   1447\u001b[0m \n\u001b[1;32m   (...)\u001b[0m\n\u001b[0;32m   1685\u001b[0m \u001b[38;5;124;03m(``'green'``) or hex strings (``'#008000'``).\u001b[39;00m\n\u001b[0;32m   1686\u001b[0m \u001b[38;5;124;03m\"\"\"\u001b[39;00m\n\u001b[0;32m   1687\u001b[0m kwargs \u001b[38;5;241m=\u001b[39m cbook\u001b[38;5;241m.\u001b[39mnormalize_kwargs(kwargs, mlines\u001b[38;5;241m.\u001b[39mLine2D)\n\u001b[1;32m-> 1688\u001b[0m lines \u001b[38;5;241m=\u001b[39m [\u001b[38;5;241m*\u001b[39m\u001b[38;5;28mself\u001b[39m\u001b[38;5;241m.\u001b[39m_get_lines(\u001b[38;5;241m*\u001b[39margs, data\u001b[38;5;241m=\u001b[39mdata, \u001b[38;5;241m*\u001b[39m\u001b[38;5;241m*\u001b[39mkwargs)]\n\u001b[0;32m   1689\u001b[0m \u001b[38;5;28;01mfor\u001b[39;00m line \u001b[38;5;129;01min\u001b[39;00m lines:\n\u001b[0;32m   1690\u001b[0m     \u001b[38;5;28mself\u001b[39m\u001b[38;5;241m.\u001b[39madd_line(line)\n",
      "File \u001b[1;32mc:\\Users\\1888r\\anaconda3\\Lib\\site-packages\\matplotlib\\axes\\_base.py:311\u001b[0m, in \u001b[0;36m_process_plot_var_args.__call__\u001b[1;34m(self, data, *args, **kwargs)\u001b[0m\n\u001b[0;32m    309\u001b[0m     this \u001b[38;5;241m+\u001b[39m\u001b[38;5;241m=\u001b[39m args[\u001b[38;5;241m0\u001b[39m],\n\u001b[0;32m    310\u001b[0m     args \u001b[38;5;241m=\u001b[39m args[\u001b[38;5;241m1\u001b[39m:]\n\u001b[1;32m--> 311\u001b[0m \u001b[38;5;28;01myield from\u001b[39;00m \u001b[38;5;28mself\u001b[39m\u001b[38;5;241m.\u001b[39m_plot_args(\n\u001b[0;32m    312\u001b[0m     this, kwargs, ambiguous_fmt_datakey\u001b[38;5;241m=\u001b[39mambiguous_fmt_datakey)\n",
      "File \u001b[1;32mc:\\Users\\1888r\\anaconda3\\Lib\\site-packages\\matplotlib\\axes\\_base.py:504\u001b[0m, in \u001b[0;36m_process_plot_var_args._plot_args\u001b[1;34m(self, tup, kwargs, return_kwargs, ambiguous_fmt_datakey)\u001b[0m\n\u001b[0;32m    501\u001b[0m     \u001b[38;5;28mself\u001b[39m\u001b[38;5;241m.\u001b[39maxes\u001b[38;5;241m.\u001b[39myaxis\u001b[38;5;241m.\u001b[39mupdate_units(y)\n\u001b[0;32m    503\u001b[0m \u001b[38;5;28;01mif\u001b[39;00m x\u001b[38;5;241m.\u001b[39mshape[\u001b[38;5;241m0\u001b[39m] \u001b[38;5;241m!=\u001b[39m y\u001b[38;5;241m.\u001b[39mshape[\u001b[38;5;241m0\u001b[39m]:\n\u001b[1;32m--> 504\u001b[0m     \u001b[38;5;28;01mraise\u001b[39;00m \u001b[38;5;167;01mValueError\u001b[39;00m(\u001b[38;5;124mf\u001b[39m\u001b[38;5;124m\"\u001b[39m\u001b[38;5;124mx and y must have same first dimension, but \u001b[39m\u001b[38;5;124m\"\u001b[39m\n\u001b[0;32m    505\u001b[0m                      \u001b[38;5;124mf\u001b[39m\u001b[38;5;124m\"\u001b[39m\u001b[38;5;124mhave shapes \u001b[39m\u001b[38;5;132;01m{\u001b[39;00mx\u001b[38;5;241m.\u001b[39mshape\u001b[38;5;132;01m}\u001b[39;00m\u001b[38;5;124m and \u001b[39m\u001b[38;5;132;01m{\u001b[39;00my\u001b[38;5;241m.\u001b[39mshape\u001b[38;5;132;01m}\u001b[39;00m\u001b[38;5;124m\"\u001b[39m)\n\u001b[0;32m    506\u001b[0m \u001b[38;5;28;01mif\u001b[39;00m x\u001b[38;5;241m.\u001b[39mndim \u001b[38;5;241m>\u001b[39m \u001b[38;5;241m2\u001b[39m \u001b[38;5;129;01mor\u001b[39;00m y\u001b[38;5;241m.\u001b[39mndim \u001b[38;5;241m>\u001b[39m \u001b[38;5;241m2\u001b[39m:\n\u001b[0;32m    507\u001b[0m     \u001b[38;5;28;01mraise\u001b[39;00m \u001b[38;5;167;01mValueError\u001b[39;00m(\u001b[38;5;124mf\u001b[39m\u001b[38;5;124m\"\u001b[39m\u001b[38;5;124mx and y can be no greater than 2D, but have \u001b[39m\u001b[38;5;124m\"\u001b[39m\n\u001b[0;32m    508\u001b[0m                      \u001b[38;5;124mf\u001b[39m\u001b[38;5;124m\"\u001b[39m\u001b[38;5;124mshapes \u001b[39m\u001b[38;5;132;01m{\u001b[39;00mx\u001b[38;5;241m.\u001b[39mshape\u001b[38;5;132;01m}\u001b[39;00m\u001b[38;5;124m and \u001b[39m\u001b[38;5;132;01m{\u001b[39;00my\u001b[38;5;241m.\u001b[39mshape\u001b[38;5;132;01m}\u001b[39;00m\u001b[38;5;124m\"\u001b[39m)\n",
      "\u001b[1;31mValueError\u001b[0m: x and y must have same first dimension, but have shapes (300,) and (400,)"
     ]
    },
    {
     "data": {
      "image/png": "[encoded data removed]",
      "text/plain": [
       "<Figure size 640x480 with 1 Axes>"
      ]
     },
     "metadata": {},
     "output_type": "display_data"
    }
   ],
   "source": [
    "model_ae = Model_AE()\n",
    "\n",
    "optimizer = torch.optim.Adam(model_ae.parameters(), lr = 1e-4)\n",
    "m3_train, m3_val = train(model_ae, optimizer, 200, train_loader, val_loader, loss_fn)\n",
    "\n",
    "#lr decay\n",
    "optimizer = torch.optim.Adam(model_ae.parameters(), lr = 1e-5)\n",
    "m3_train2, m3_val2 = train(model_ae, optimizer, 200, train_loader, val_loader, loss_fn)\n",
    "\n",
    "plt.plot(range(300), m3_train + m3_train2, 'blue' , label = 'train')\n",
    "plt.plot(range(300), m3_val + m3_val2, 'red' , label = 'valid')\n",
    "plt.legend();"
   ]
  },
  {
   "cell_type": "markdown",
   "id": "53c65e91",
   "metadata": {},
   "source": [
    "Now we initialize the model again, freeze the parameters of the encoding network and then train it again."
   ]
  },
  {
   "cell_type": "code",
   "execution_count": null,
   "id": "13cf4c51",
   "metadata": {},
   "outputs": [
    {
     "ename": "ValueError",
     "evalue": "x and y must have same first dimension, but have shapes (300,) and (700,)",
     "output_type": "error",
     "traceback": [
      "\u001b[1;31m---------------------------------------------------------------------------\u001b[0m",
      "\u001b[1;31mValueError\u001b[0m                                Traceback (most recent call last)",
      "Cell \u001b[1;32mIn[22], line 14\u001b[0m\n\u001b[0;32m     11\u001b[0m optimizer \u001b[38;5;241m=\u001b[39m torch\u001b[38;5;241m.\u001b[39moptim\u001b[38;5;241m.\u001b[39mAdam(model_ae\u001b[38;5;241m.\u001b[39mparameters(), lr \u001b[38;5;241m=\u001b[39m \u001b[38;5;241m1e-5\u001b[39m)\n\u001b[0;32m     12\u001b[0m m3_train2, m3_val2 \u001b[38;5;241m=\u001b[39m train(model_ae, \u001b[38;5;241m300\u001b[39m, train_loader, val_loader, loss_fn)\n\u001b[1;32m---> 14\u001b[0m plt\u001b[38;5;241m.\u001b[39mplot(\u001b[38;5;28mrange\u001b[39m(\u001b[38;5;241m300\u001b[39m), m3_train \u001b[38;5;241m+\u001b[39m m3_train2, \u001b[38;5;124m'\u001b[39m\u001b[38;5;124mblue\u001b[39m\u001b[38;5;124m'\u001b[39m , label \u001b[38;5;241m=\u001b[39m \u001b[38;5;124m'\u001b[39m\u001b[38;5;124mtrain\u001b[39m\u001b[38;5;124m'\u001b[39m)\n\u001b[0;32m     15\u001b[0m plt\u001b[38;5;241m.\u001b[39mplot(\u001b[38;5;28mrange\u001b[39m(\u001b[38;5;241m300\u001b[39m), m3_val \u001b[38;5;241m+\u001b[39m m3_val2, \u001b[38;5;124m'\u001b[39m\u001b[38;5;124mred\u001b[39m\u001b[38;5;124m'\u001b[39m , label \u001b[38;5;241m=\u001b[39m \u001b[38;5;124m'\u001b[39m\u001b[38;5;124mvalid\u001b[39m\u001b[38;5;124m'\u001b[39m)\n\u001b[0;32m     16\u001b[0m plt\u001b[38;5;241m.\u001b[39mlegend()\n",
      "File \u001b[1;32mc:\\Users\\1888r\\anaconda3\\Lib\\site-packages\\matplotlib\\pyplot.py:2812\u001b[0m, in \u001b[0;36mplot\u001b[1;34m(scalex, scaley, data, *args, **kwargs)\u001b[0m\n\u001b[0;32m   2810\u001b[0m \u001b[38;5;129m@_copy_docstring_and_deprecators\u001b[39m(Axes\u001b[38;5;241m.\u001b[39mplot)\n\u001b[0;32m   2811\u001b[0m \u001b[38;5;28;01mdef\u001b[39;00m \u001b[38;5;21mplot\u001b[39m(\u001b[38;5;241m*\u001b[39margs, scalex\u001b[38;5;241m=\u001b[39m\u001b[38;5;28;01mTrue\u001b[39;00m, scaley\u001b[38;5;241m=\u001b[39m\u001b[38;5;28;01mTrue\u001b[39;00m, data\u001b[38;5;241m=\u001b[39m\u001b[38;5;28;01mNone\u001b[39;00m, \u001b[38;5;241m*\u001b[39m\u001b[38;5;241m*\u001b[39mkwargs):\n\u001b[1;32m-> 2812\u001b[0m     \u001b[38;5;28;01mreturn\u001b[39;00m gca()\u001b[38;5;241m.\u001b[39mplot(\n\u001b[0;32m   2813\u001b[0m         \u001b[38;5;241m*\u001b[39margs, scalex\u001b[38;5;241m=\u001b[39mscalex, scaley\u001b[38;5;241m=\u001b[39mscaley,\n\u001b[0;32m   2814\u001b[0m         \u001b[38;5;241m*\u001b[39m\u001b[38;5;241m*\u001b[39m({\u001b[38;5;124m\"\u001b[39m\u001b[38;5;124mdata\u001b[39m\u001b[38;5;124m\"\u001b[39m: data} \u001b[38;5;28;01mif\u001b[39;00m data \u001b[38;5;129;01mis\u001b[39;00m \u001b[38;5;129;01mnot\u001b[39;00m \u001b[38;5;28;01mNone\u001b[39;00m \u001b[38;5;28;01melse\u001b[39;00m {}), \u001b[38;5;241m*\u001b[39m\u001b[38;5;241m*\u001b[39mkwargs)\n",
      "File \u001b[1;32mc:\\Users\\1888r\\anaconda3\\Lib\\site-packages\\matplotlib\\axes\\_axes.py:1688\u001b[0m, in \u001b[0;36mAxes.plot\u001b[1;34m(self, scalex, scaley, data, *args, **kwargs)\u001b[0m\n\u001b[0;32m   1445\u001b[0m \u001b[38;5;250m\u001b[39m\u001b[38;5;124;03m\"\"\"\u001b[39;00m\n\u001b[0;32m   1446\u001b[0m \u001b[38;5;124;03mPlot y versus x as lines and/or markers.\u001b[39;00m\n\u001b[0;32m   1447\u001b[0m \n\u001b[1;32m   (...)\u001b[0m\n\u001b[0;32m   1685\u001b[0m \u001b[38;5;124;03m(``'green'``) or hex strings (``'#008000'``).\u001b[39;00m\n\u001b[0;32m   1686\u001b[0m \u001b[38;5;124;03m\"\"\"\u001b[39;00m\n\u001b[0;32m   1687\u001b[0m kwargs \u001b[38;5;241m=\u001b[39m cbook\u001b[38;5;241m.\u001b[39mnormalize_kwargs(kwargs, mlines\u001b[38;5;241m.\u001b[39mLine2D)\n\u001b[1;32m-> 1688\u001b[0m lines \u001b[38;5;241m=\u001b[39m [\u001b[38;5;241m*\u001b[39m\u001b[38;5;28mself\u001b[39m\u001b[38;5;241m.\u001b[39m_get_lines(\u001b[38;5;241m*\u001b[39margs, data\u001b[38;5;241m=\u001b[39mdata, \u001b[38;5;241m*\u001b[39m\u001b[38;5;241m*\u001b[39mkwargs)]\n\u001b[0;32m   1689\u001b[0m \u001b[38;5;28;01mfor\u001b[39;00m line \u001b[38;5;129;01min\u001b[39;00m lines:\n\u001b[0;32m   1690\u001b[0m     \u001b[38;5;28mself\u001b[39m\u001b[38;5;241m.\u001b[39madd_line(line)\n",
      "File \u001b[1;32mc:\\Users\\1888r\\anaconda3\\Lib\\site-packages\\matplotlib\\axes\\_base.py:311\u001b[0m, in \u001b[0;36m_process_plot_var_args.__call__\u001b[1;34m(self, data, *args, **kwargs)\u001b[0m\n\u001b[0;32m    309\u001b[0m     this \u001b[38;5;241m+\u001b[39m\u001b[38;5;241m=\u001b[39m args[\u001b[38;5;241m0\u001b[39m],\n\u001b[0;32m    310\u001b[0m     args \u001b[38;5;241m=\u001b[39m args[\u001b[38;5;241m1\u001b[39m:]\n\u001b[1;32m--> 311\u001b[0m \u001b[38;5;28;01myield from\u001b[39;00m \u001b[38;5;28mself\u001b[39m\u001b[38;5;241m.\u001b[39m_plot_args(\n\u001b[0;32m    312\u001b[0m     this, kwargs, ambiguous_fmt_datakey\u001b[38;5;241m=\u001b[39mambiguous_fmt_datakey)\n",
      "File \u001b[1;32mc:\\Users\\1888r\\anaconda3\\Lib\\site-packages\\matplotlib\\axes\\_base.py:504\u001b[0m, in \u001b[0;36m_process_plot_var_args._plot_args\u001b[1;34m(self, tup, kwargs, return_kwargs, ambiguous_fmt_datakey)\u001b[0m\n\u001b[0;32m    501\u001b[0m     \u001b[38;5;28mself\u001b[39m\u001b[38;5;241m.\u001b[39maxes\u001b[38;5;241m.\u001b[39myaxis\u001b[38;5;241m.\u001b[39mupdate_units(y)\n\u001b[0;32m    503\u001b[0m \u001b[38;5;28;01mif\u001b[39;00m x\u001b[38;5;241m.\u001b[39mshape[\u001b[38;5;241m0\u001b[39m] \u001b[38;5;241m!=\u001b[39m y\u001b[38;5;241m.\u001b[39mshape[\u001b[38;5;241m0\u001b[39m]:\n\u001b[1;32m--> 504\u001b[0m     \u001b[38;5;28;01mraise\u001b[39;00m \u001b[38;5;167;01mValueError\u001b[39;00m(\u001b[38;5;124mf\u001b[39m\u001b[38;5;124m\"\u001b[39m\u001b[38;5;124mx and y must have same first dimension, but \u001b[39m\u001b[38;5;124m\"\u001b[39m\n\u001b[0;32m    505\u001b[0m                      \u001b[38;5;124mf\u001b[39m\u001b[38;5;124m\"\u001b[39m\u001b[38;5;124mhave shapes \u001b[39m\u001b[38;5;132;01m{\u001b[39;00mx\u001b[38;5;241m.\u001b[39mshape\u001b[38;5;132;01m}\u001b[39;00m\u001b[38;5;124m and \u001b[39m\u001b[38;5;132;01m{\u001b[39;00my\u001b[38;5;241m.\u001b[39mshape\u001b[38;5;132;01m}\u001b[39;00m\u001b[38;5;124m\"\u001b[39m)\n\u001b[0;32m    506\u001b[0m \u001b[38;5;28;01mif\u001b[39;00m x\u001b[38;5;241m.\u001b[39mndim \u001b[38;5;241m>\u001b[39m \u001b[38;5;241m2\u001b[39m \u001b[38;5;129;01mor\u001b[39;00m y\u001b[38;5;241m.\u001b[39mndim \u001b[38;5;241m>\u001b[39m \u001b[38;5;241m2\u001b[39m:\n\u001b[0;32m    507\u001b[0m     \u001b[38;5;28;01mraise\u001b[39;00m \u001b[38;5;167;01mValueError\u001b[39;00m(\u001b[38;5;124mf\u001b[39m\u001b[38;5;124m\"\u001b[39m\u001b[38;5;124mx and y can be no greater than 2D, but have \u001b[39m\u001b[38;5;124m\"\u001b[39m\n\u001b[0;32m    508\u001b[0m                      \u001b[38;5;124mf\u001b[39m\u001b[38;5;124m\"\u001b[39m\u001b[38;5;124mshapes \u001b[39m\u001b[38;5;132;01m{\u001b[39;00mx\u001b[38;5;241m.\u001b[39mshape\u001b[38;5;132;01m}\u001b[39;00m\u001b[38;5;124m and \u001b[39m\u001b[38;5;132;01m{\u001b[39;00my\u001b[38;5;241m.\u001b[39mshape\u001b[38;5;132;01m}\u001b[39;00m\u001b[38;5;124m\"\u001b[39m)\n",
      "\u001b[1;31mValueError\u001b[0m: x and y must have same first dimension, but have shapes (300,) and (700,)"
     ]
    },
    {
     "data": {
      "image/png": "[encoded data removed]",
      "text/plain": [
       "<Figure size 640x480 with 1 Axes>"
      ]
     },
     "metadata": {},
     "output_type": "display_data"
    }
   ],
   "source": [
    "model_ae_frozen = Model_AE()\n",
    "\n",
    "#freeze encoder network:\n",
    "for param in model_ae_frozen.ae.parameters():\n",
    "    param.requires_grad = False\n",
    "\n",
    "optimizer = torch.optim.Adam(model_ae.parameters(), lr = 1e-4)\n",
    "m3_train, m3_val = train(model_ae, 400, train_loader, val_loader, loss_fn)\n",
    "\n",
    "#lr decay\n",
    "optimizer = torch.optim.Adam(model_ae.parameters(), lr = 1e-5)\n",
    "m3_train2, m3_val2 = train(model_ae, 300, train_loader, val_loader, loss_fn)\n",
    "\n",
    "plt.plot(range(700), m3_train + m3_train2, 'blue' , label = 'train')\n",
    "plt.plot(range(700), m3_val + m3_val2, 'red' , label = 'valid')\n",
    "plt.legend();"
   ]
  },
  {
   "cell_type": "markdown",
   "id": "833b91ba-a988-4c04-b401-604f78d9472b",
   "metadata": {},
   "source": [
    "### Conclusion\n",
    "Given that our dataset was still relatively low dimensional (11 dims), fitting a model on the original features gives the best test results.  \n",
    "However, we also observed that this model overfits the fastest on the training data, because the dataset is relatively small, reducing the dimensionality of the feature space, leads to models, which do not overfit as quickly."
   ]
  },
  {
   "cell_type": "code",
   "execution_count": null,
   "id": "7893a5e5-6216-4cea-bad1-38439e57412c",
   "metadata": {},
   "outputs": [
    {
     "name": "stdout",
     "output_type": "stream",
     "text": [
      "Test scores for each of the models\n",
      "first model: 0.5520896911621094 | pca model 0.574485719203949 | ae model 0.5314435362815857\n"
     ]
    },
    {
     "name": "stderr",
     "output_type": "stream",
     "text": [
      "C:\\Users\\1888r\\anaconda3\\Lib\\site-packages\\torch\\nn\\modules\\loss.py:101: UserWarning: Using a target size (torch.Size([1])) that is different to the input size (torch.Size([])). This will likely lead to incorrect results due to broadcasting. Please ensure they have the same size.\n",
      "  return F.l1_loss(input, target, reduction=self.reduction)\n"
     ]
    }
   ],
   "source": [
    "loss_fn = nn.L1Loss(reduction = 'mean')\n",
    "\n",
    "m1_test = evaluate(model, test_loader, loss_fn)\n",
    "m2_test = evaluate(model_pca, test_loader_pca, loss_fn)\n",
    "m3_test = evaluate(model_ae, test_loader, loss_fn)\n",
    "m4_test = evaluate(model_ae_frozen , test_loader, loss_fn)\n",
    "\n",
    "\n",
    "print(\"Test scores for each of the models\")\n",
    "print(f\"first model: {m1_test}:.4f \\npca model {m2_test}:.4f \\nae model unfrozen{m3_test}:.4f \\nae model frozen{m4_test}:.4f \")"
   ]
  }
 ],
 "metadata": {
  "kernelspec": {
   "display_name": "Python 3 (ipykernel)",
   "language": "python",
   "name": "python3"
  },
  "language_info": {
   "codemirror_mode": {
    "name": "ipython",
    "version": 3
   },
   "file_extension": ".py",
   "mimetype": "text/x-python",
   "name": "python",
   "nbconvert_exporter": "python",
   "pygments_lexer": "ipython3",
   "version": "3.11.5"
  }
 },
 "nbformat": 4,
 "nbformat_minor": 5
}
